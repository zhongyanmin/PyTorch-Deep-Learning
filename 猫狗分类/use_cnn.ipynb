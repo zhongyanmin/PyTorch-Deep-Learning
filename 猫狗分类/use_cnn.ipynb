{
 "cells": [
  {
   "cell_type": "code",
   "execution_count": 1,
   "metadata": {},
   "outputs": [
    {
     "name": "stderr",
     "output_type": "stream",
     "text": [
      "d:\\Program Files\\Python\\Python310\\lib\\site-packages\\tqdm\\auto.py:22: TqdmWarning: IProgress not found. Please update jupyter and ipywidgets. See https://ipywidgets.readthedocs.io/en/stable/user_install.html\n",
      "  from .autonotebook import tqdm as notebook_tqdm\n"
     ]
    }
   ],
   "source": [
    "import os\n",
    "import copy\n",
    "import json\n",
    "import numpy as np\n",
    "from PIL import Image\n",
    "from pathlib import Path\n",
    "import torch\n",
    "from torch import nn\n",
    "import torch.nn.functional as F\n",
    "from torch.utils.data import Dataset, DataLoader, random_split\n",
    "from torchvision import transforms\n",
    "import matplotlib.pyplot as plt"
   ]
  },
  {
   "cell_type": "code",
   "execution_count": 2,
   "metadata": {},
   "outputs": [
    {
     "name": "stdout",
     "output_type": "stream",
     "text": [
      "device:  cuda:0\n"
     ]
    }
   ],
   "source": [
    "device = torch.device(\"cuda:0\" if torch.cuda.is_available() else \"cpu\")\n",
    "print(\"device: \", device)"
   ]
  },
  {
   "cell_type": "code",
   "execution_count": 3,
   "metadata": {},
   "outputs": [],
   "source": [
    "get_label = lambda x: x.name.split('.')[0]\n",
    "\n",
    "class get_dataset(Dataset):\n",
    "    def __init__(self, root, transform=None):\n",
    "        self.images = list(Path(root).glob('*.jpg'))\n",
    "        self.transform = transform\n",
    "    def __len__(self):\n",
    "        return len(self.images)\n",
    "    def __getitem__(self, idx):\n",
    "        img = self.images[idx]\n",
    "        label = get_label(img)\n",
    "        label = 1 if label == 'dog' else 0\n",
    "        if self.transform:\n",
    "            img = self.transform(Image.open(img))\n",
    "        return img, torch.tensor(label, dtype=torch.int64)"
   ]
  },
  {
   "cell_type": "code",
   "execution_count": 4,
   "metadata": {},
   "outputs": [],
   "source": [
    "transforms = transforms.Compose([\n",
    "    transforms.Resize([224, 224]),  # resize the input image to a uniform size\n",
    "    transforms.ToTensor(),  # convert PIL Image or numpy.ndarray to tensor and normalize to somewhere between [0,1]\n",
    "    transforms.Normalize(   # standardized processing\n",
    "        mean=[0.485, 0.456, 0.406],\n",
    "        std=[0.229, 0.224, 0.225])\n",
    "])"
   ]
  },
  {
   "cell_type": "code",
   "execution_count": 5,
   "metadata": {},
   "outputs": [
    {
     "name": "stdout",
     "output_type": "stream",
     "text": [
      "2000\n"
     ]
    }
   ],
   "source": [
    "train_path = './kaggle/inputs/train'\n",
    "# get dataset\n",
    "dataset = get_dataset(train_path, transform=transforms)\n",
    "print(len(dataset))\n",
    "# splitting into train and validation\n",
    "train_data, valid_data = random_split(dataset, \n",
    "        lengths=[int(len(dataset)*0.8),int(len(dataset)*0.2)], \n",
    "        generator=torch.Generator().manual_seed(7))\n",
    "# print(\"train: \", len(train_data))\n",
    "# print(\"valid: \", len(valid_data))\n",
    "train_loader = DataLoader(train_data, batch_size=32, shuffle=True)\n",
    "valid_loader = DataLoader(valid_data, batch_size=32)"
   ]
  },
  {
   "cell_type": "code",
   "execution_count": 6,
   "metadata": {},
   "outputs": [],
   "source": [
    "class CNN(nn.Module):\n",
    "    def __init__(self):\n",
    "        super(CNN, self).__init__()\n",
    "        self.conv1 = nn.Sequential(\n",
    "            nn.Conv2d(3, 32, 3),\n",
    "            nn.ReLU(),\n",
    "            nn.MaxPool2d(kernel_size=2)\n",
    "        )\n",
    "        self.conv2 = nn.Sequential(\n",
    "            nn.Conv2d(32, 64, 3),\n",
    "            nn.ReLU(),\n",
    "            nn.MaxPool2d(kernel_size=2)\n",
    "        )\n",
    "        self.conv3 = nn.Sequential(\n",
    "            nn.Conv2d(64, 128, 3),\n",
    "            nn.ReLU(),\n",
    "            nn.MaxPool2d(kernel_size=2)\n",
    "        )\n",
    "        self.fc1 = nn.Linear(128*26*26, 512)\n",
    "        self.fc2 = nn.Linear(512, 2)\n",
    "        \n",
    "    def forward(self, x):\n",
    "        x = self.conv1(x)\n",
    "        x = self.conv2(x)\n",
    "        x = self.conv3(x)\n",
    "        x = x.view(x.size(0), -1)\n",
    "        x = self.fc1(x)\n",
    "        x = self.fc2(x)\n",
    "        x = F.log_softmax(x, dim=1)\n",
    "        return x"
   ]
  },
  {
   "cell_type": "code",
   "execution_count": 7,
   "metadata": {},
   "outputs": [
    {
     "name": "stdout",
     "output_type": "stream",
     "text": [
      "CNN(\n",
      "  (conv1): Sequential(\n",
      "    (0): Conv2d(3, 32, kernel_size=(3, 3), stride=(1, 1))\n",
      "    (1): ReLU()\n",
      "    (2): MaxPool2d(kernel_size=2, stride=2, padding=0, dilation=1, ceil_mode=False)\n",
      "  )\n",
      "  (conv2): Sequential(\n",
      "    (0): Conv2d(32, 64, kernel_size=(3, 3), stride=(1, 1))\n",
      "    (1): ReLU()\n",
      "    (2): MaxPool2d(kernel_size=2, stride=2, padding=0, dilation=1, ceil_mode=False)\n",
      "  )\n",
      "  (conv3): Sequential(\n",
      "    (0): Conv2d(64, 128, kernel_size=(3, 3), stride=(1, 1))\n",
      "    (1): ReLU()\n",
      "    (2): MaxPool2d(kernel_size=2, stride=2, padding=0, dilation=1, ceil_mode=False)\n",
      "  )\n",
      "  (fc1): Linear(in_features=86528, out_features=512, bias=True)\n",
      "  (fc2): Linear(in_features=512, out_features=2, bias=True)\n",
      ")\n",
      "Epoch 1 / 25\n",
      "Train Loss: 0.6929 Accuracy: 50.7500%\n",
      "Epoch 2 / 25\n",
      "Train Loss: 0.6924 Accuracy: 51.8125%\n",
      "Epoch 3 / 25\n",
      "Train Loss: 0.6917 Accuracy: 53.6875%\n",
      "Epoch 4 / 25\n",
      "Train Loss: 0.6913 Accuracy: 51.8750%\n",
      "Epoch 5 / 25\n",
      "Train Loss: 0.6907 Accuracy: 55.1875%\n",
      "Epoch 6 / 25\n",
      "Train Loss: 0.6903 Accuracy: 55.6875%\n",
      "Epoch 7 / 25\n",
      "Train Loss: 0.6898 Accuracy: 56.0000%\n",
      "Epoch 8 / 25\n",
      "Train Loss: 0.6893 Accuracy: 57.0625%\n",
      "Epoch 9 / 25\n",
      "Train Loss: 0.6888 Accuracy: 55.8125%\n",
      "Epoch 10 / 25\n",
      "Train Loss: 0.6884 Accuracy: 57.8125%\n",
      "Epoch 11 / 25\n",
      "Train Loss: 0.6879 Accuracy: 56.1250%\n",
      "Epoch 12 / 25\n",
      "Train Loss: 0.6874 Accuracy: 59.8750%\n",
      "Epoch 13 / 25\n",
      "Train Loss: 0.6869 Accuracy: 57.4375%\n",
      "Epoch 14 / 25\n",
      "Train Loss: 0.6865 Accuracy: 58.8125%\n",
      "Epoch 15 / 25\n",
      "Train Loss: 0.6861 Accuracy: 59.1875%\n",
      "Epoch 16 / 25\n",
      "Train Loss: 0.6857 Accuracy: 58.7500%\n",
      "Epoch 17 / 25\n",
      "Train Loss: 0.6853 Accuracy: 59.4375%\n",
      "Epoch 18 / 25\n",
      "Train Loss: 0.6849 Accuracy: 59.8750%\n",
      "Epoch 19 / 25\n",
      "Train Loss: 0.6844 Accuracy: 59.0625%\n",
      "Epoch 20 / 25\n",
      "Train Loss: 0.6841 Accuracy: 59.9375%\n",
      "Epoch 21 / 25\n",
      "Train Loss: 0.6836 Accuracy: 59.5625%\n",
      "Epoch 22 / 25\n",
      "Train Loss: 0.6832 Accuracy: 59.8750%\n",
      "Epoch 23 / 25\n",
      "Train Loss: 0.6828 Accuracy: 59.5000%\n",
      "Epoch 24 / 25\n",
      "Train Loss: 0.6824 Accuracy: 60.5000%\n",
      "Epoch 25 / 25\n",
      "Train Loss: 0.6821 Accuracy: 60.0625%\n"
     ]
    }
   ],
   "source": [
    "model = CNN()\n",
    "model.to(device)\n",
    "print(model)\n",
    "\n",
    "loss_function = nn.CrossEntropyLoss()\n",
    "optimizer = torch.optim.SGD(model.parameters(), lr=1e-4)\n",
    "\n",
    "epochs = 25\n",
    "train_loss_list = []\n",
    "train_acc_list = []\n",
    "best_model_wts = copy.deepcopy(model.state_dict())\n",
    "\n",
    "for epoch in range(epochs):\n",
    "    print(\"Epoch {} / {}\".format(epoch + 1, epochs))\n",
    "            \n",
    "    t_loss, t_corr = 0.0, 0.0\n",
    "    \n",
    "    model.train() \n",
    "    for inputs, labels in train_loader:\n",
    "        inputs = inputs.to(device)\n",
    "        labels = labels.to(device)\n",
    "        \n",
    "        preds = model(inputs)\n",
    "        loss = loss_function(preds, labels)\n",
    "        optimizer.zero_grad()\n",
    "        loss.backward()\n",
    "        optimizer.step()\n",
    "        t_loss += loss.item() * inputs.size(0)\n",
    "        t_corr += torch.sum(preds.argmax(1) == labels) \n",
    "        \n",
    "    train_loss = t_loss / len(train_loader.dataset)\n",
    "    train_acc = t_corr.cpu().numpy() / len(train_loader.dataset)\n",
    "    train_loss_list.append(train_loss)\n",
    "    train_acc_list.append(train_acc)  \n",
    "    print('Train Loss: {:.4f} Accuracy: {:.4f}%'.format(train_loss, train_acc * 100))"
   ]
  },
  {
   "cell_type": "code",
   "execution_count": 8,
   "metadata": {},
   "outputs": [
    {
     "data": {
      "image/png": "[encoded data removed]",
      "text/plain": [
       "<Figure size 640x480 with 1 Axes>"
      ]
     },
     "metadata": {},
     "output_type": "display_data"
    },
    {
     "name": "stdout",
     "output_type": "stream",
     "text": [
      "Valid Loss: 0.6854 Accuracy: 60.0000%\n"
     ]
    }
   ],
   "source": [
    "plt.figure()\n",
    "plt.title('Train Loss and Accuracy')\n",
    "plt.xlabel('Epoch')\n",
    "plt.ylabel('')\n",
    "plt.plot(range(1, epochs+1), np.array(train_loss_list), color='blue',\n",
    "         linestyle='-', label='Train_Loss')\n",
    "plt.plot(range(1, epochs+1), np.array(train_acc_list), color='red',\n",
    "         linestyle='-', label='Train_Accuracy')\n",
    "plt.legend()  # 凡例\n",
    "plt.show()  # 表示\n",
    "\n",
    "v_loss,  v_corr = 0.0, 0.0      \n",
    "model.eval()\n",
    "with torch.no_grad():\n",
    "    for inputs, labels in valid_loader:\n",
    "        inputs = inputs.to(device)\n",
    "        labels = labels.to(device)\n",
    "        preds = model(inputs)\n",
    "        v_loss += loss.item() * inputs.size(0)\n",
    "        v_corr += torch.sum(preds.argmax(1) == labels)\n",
    "        \n",
    "    print('Valid Loss: {:.4f} Accuracy: {:.4f}%'.format(v_loss / len(valid_loader.dataset),\n",
    "                                                       (v_corr / len(valid_loader.dataset)) * 100))"
   ]
  },
  {
   "cell_type": "code",
   "execution_count": 9,
   "metadata": {},
   "outputs": [
    {
     "name": "stdout",
     "output_type": "stream",
     "text": [
      "Test Loss: 0.6854 Accuracy: 60.2500%\n"
     ]
    }
   ],
   "source": [
    "test_path = './kaggle/inputs/test'\n",
    "# get dataset\n",
    "test_data = get_dataset(test_path, transform=transforms)\n",
    "# print(len(test_data))\n",
    "test_loader = DataLoader(test_data, batch_size=32)\n",
    "_loss, _corr = 0.0, 0.0\n",
    "model.eval()\n",
    "with torch.no_grad():\n",
    "    for inputs, labels in test_loader:\n",
    "        inputs = inputs.to(device)\n",
    "        labels = labels.to(device)\n",
    "        y = model(inputs)\n",
    "        preds = y.argmax(1)\n",
    "        _loss += loss.item() * inputs.size(0)\n",
    "        _corr += torch.sum(preds== labels)\n",
    "\n",
    "    print('Test Loss: {:.4f} Accuracy: {:.4f}%'.format(_loss / len(test_loader.dataset),\n",
    "                                                       (_corr / len(test_loader.dataset)) * 100))"
   ]
  }
 ],
 "metadata": {
  "kernelspec": {
   "display_name": "Python 3",
   "language": "python",
   "name": "python3"
  },
  "language_info": {
   "codemirror_mode": {
    "name": "ipython",
    "version": 3
   },
   "file_extension": ".py",
   "mimetype": "text/x-python",
   "name": "python",
   "nbconvert_exporter": "python",
   "pygments_lexer": "ipython3",
   "version": "3.10.9"
  },
  "orig_nbformat": 4,
  "vscode": {
   "interpreter": {
    "hash": "080da6c26f0a175bdb916ba142774bba8599a404fc80d6d1f14d481a78eeafad"
   }
  }
 },
 "nbformat": 4,
 "nbformat_minor": 2
}
